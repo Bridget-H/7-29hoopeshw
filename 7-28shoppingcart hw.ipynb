{
 "cells": [
  {
   "cell_type": "code",
   "execution_count": 38,
   "id": "2cf698db",
   "metadata": {},
   "outputs": [
    {
     "name": "stdout",
     "output_type": "stream",
     "text": [
      "Whould you like to add to cart, remove something from the car, or show what's in the cart? (a,r,s,)a\n",
      "what would you like to add to the cart?apple\n",
      "['apple']\n",
      "Whould you like to add to cart, remove something from the car, or show what's in the cart? (a,r,s,)r\n",
      "What would you like to remove?apple\n",
      "[]\n",
      "Whould you like to add to cart, remove something from the car, or show what's in the cart? (a,r,s,)s\n",
      "[]\n",
      "Whould you like to add to cart, remove something from the car, or show what's in the cart? (a,r,s,)q\n"
     ]
    }
   ],
   "source": [
    "#Build the Shopping Cart Class. The cart should have an attribute that holds all of the \n",
    "#items in the cart. The cart should also have methods to add to, remove from, show, \n",
    "#and clear the items in the cart.\n",
    "class Shoppingcart ():\n",
    "    \n",
    "    def __init__(self, name, price=1.00,):\n",
    "        self.name = name\n",
    "        self.price = price\n",
    "        self.cart = []\n",
    "    def a(self):\n",
    "        y = input(\"what would you like to add to the cart?\")\n",
    "        self.cart.append(y)\n",
    "        print(self.cart)\n",
    "    def r(self):\n",
    "        w= input(\"What would you like to remove?\")\n",
    "        if w in self.cart:\n",
    "            self.cart.remove(w)\n",
    "            print(self.cart)\n",
    "    def run(self):\n",
    "        while True:\n",
    "            x = input(\"Whould you like to add to cart, remove something from the car, show what's in the cart, or quit the program? (a,r,s,q)\")\n",
    "            if x == \"a\":\n",
    "                self.a()\n",
    "            if x == \"r\":\n",
    "                self.r()\n",
    "            if x == \"s\":\n",
    "                print(self.cart)\n",
    "            if x ==\"q\":\n",
    "                break\n",
    "                \n",
    "                \n",
    "                \n",
    "            \n",
    "                    \n",
    "shoppingcart1 = Shoppingcart('shopper1')\n",
    "shoppingcart1.run()"
   ]
  },
  {
   "cell_type": "code",
   "execution_count": null,
   "id": "bd210e5e",
   "metadata": {},
   "outputs": [],
   "source": []
  }
 ],
 "metadata": {
  "kernelspec": {
   "display_name": "Python 3",
   "language": "python",
   "name": "python3"
  },
  "language_info": {
   "codemirror_mode": {
    "name": "ipython",
    "version": 3
   },
   "file_extension": ".py",
   "mimetype": "text/x-python",
   "name": "python",
   "nbconvert_exporter": "python",
   "pygments_lexer": "ipython3",
   "version": "3.8.8"
  }
 },
 "nbformat": 4,
 "nbformat_minor": 5
}
